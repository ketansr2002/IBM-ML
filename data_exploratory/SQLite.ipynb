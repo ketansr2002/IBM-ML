{
 "cells": [
  {
   "cell_type": "markdown",
   "metadata": {},
   "source": [
    "here we will learn to load data from sql and cloud"
   ]
  },
  {
   "cell_type": "code",
   "execution_count": 1,
   "metadata": {},
   "outputs": [],
   "source": [
    "#sql data imports\n",
    "\n",
    "import sqlite3 as sq3\n",
    "import pandas as pd\n",
    "\n",
    "#initialize path to SQLite database and create connection\n",
    "path =\"your path to sql database\"\n",
    "\n",
    "con=sq3.Connection(path)\n",
    "\n",
    "#write and execute query\n",
    "query=''' select query'''\n",
    "data=pd.read_sql(query,con)\n",
    "\n"
   ]
  },
  {
   "cell_type": "code",
   "execution_count": null,
   "metadata": {},
   "outputs": [],
   "source": [
    "#reading data from API\n",
    "data_url=\"some url\"\n",
    "df=pd.read_csv(data_url,header=None)"
   ]
  }
 ],
 "metadata": {
  "kernelspec": {
   "display_name": "Python 3",
   "language": "python",
   "name": "python3"
  },
  "language_info": {
   "codemirror_mode": {
    "name": "ipython",
    "version": 3
   },
   "file_extension": ".py",
   "mimetype": "text/x-python",
   "name": "python",
   "nbconvert_exporter": "python",
   "pygments_lexer": "ipython3",
   "version": "3.10.9"
  }
 },
 "nbformat": 4,
 "nbformat_minor": 2
}
