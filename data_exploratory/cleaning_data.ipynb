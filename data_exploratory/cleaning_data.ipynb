{
 "cells": [
  {
   "cell_type": "markdown",
   "metadata": {},
   "source": [
    "Decisions and analytics are increasingly driven by data and models.Key aspects of Machine Learning Workflow depend on cleaned data:\n",
    "    - Observations: An instance of the data (usually a point or row in a dataset)\n",
    "    - Labels: Output variable(s) being predicted\n",
    "    - Algorithms: Computer programs that estimate models based on available data\n",
    "    - Features: Information we have for each observation (variables)\n",
    "    - Model: Hypothesized relationship between observations and data"
   ]
  },
  {
   "cell_type": "markdown",
   "metadata": {},
   "source": [
    "policies for missing data\n",
    "    ->remove (remove rows)\n",
    "\n",
    "    ->impute (replace with substitute values like mean,common etc)\n",
    "    \n",
    "    ->Mask (create a category for missing values)"
   ]
  },
  {
   "cell_type": "markdown",
   "metadata": {},
   "source": [
    "OUTLINERS: some values might stand out from others in a small database like [1,4,5,6,100], so taking mean of these numbers will not be accurate to what is expected.\n",
    "therefore we find outliners.\n",
    "\n",
    "Detecting outliners:\n",
    "    ->plots (sns.distplot(data,bins20), sns.boxplot(data) )\n",
    "\n",
    "    ->statistics\n",
    "\n",
    "    ->Residuals (difference between actual and predicted values of the outcome variable represent model failure)\n",
    "\n",
    "Handling outliners:\n",
    "    ->remove\n",
    "    ->assign\n",
    "    ->predict (regression, similar values)\n"
   ]
  },
  {
   "cell_type": "code",
   "execution_count": null,
   "metadata": {},
   "outputs": [],
   "source": [
    "#remove missing values\n"
   ]
  }
 ],
 "metadata": {
  "language_info": {
   "name": "python"
  }
 },
 "nbformat": 4,
 "nbformat_minor": 2
}
