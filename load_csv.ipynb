{
 "cells": [
  {
   "cell_type": "markdown",
   "metadata": {},
   "source": [
    "we can use multiple delimiters in theload csv statement"
   ]
  },
  {
   "cell_type": "code",
   "execution_count": null,
   "metadata": {},
   "outputs": [],
   "source": [
    "import pandas as pd\n",
    "\n",
    "# tab separated file\n",
    "data =pd.read_csv(filepath, sep='\\t')\n",
    "\n",
    "# space separated file\n",
    "data = pd.read_csv(filepath, delim_whitespace=True)\n",
    "\n",
    "#dont use the first row of the data\n",
    "data= pd.read_csv(filepath, header=None)\n",
    "\n",
    "#specify column names\n",
    "data=pd.read_csv(filepath, names=[col1,col2])\n",
    "\n",
    "#custom missing values \n",
    "data=pd.read_csv(filepath, na_values=['NA',78])\n",
    "\n",
    "\n"
   ]
  },
  {
   "cell_type": "markdown",
   "metadata": {},
   "source": [
    "Handling json files"
   ]
  },
  {
   "cell_type": "code",
   "execution_count": null,
   "metadata": {},
   "outputs": [],
   "source": [
    "#read a JSON file as dataframe\n",
    "data=pd.read_json(filepath)\n",
    "\n",
    "#write dataframe into json\n",
    "data.to_json(\"output_file.json\")"
   ]
  }
 ],
 "metadata": {
  "language_info": {
   "name": "python"
  }
 },
 "nbformat": 4,
 "nbformat_minor": 2
}
